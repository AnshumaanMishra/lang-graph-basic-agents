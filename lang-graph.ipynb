{
 "cells": [
  {
   "cell_type": "markdown",
   "id": "fbd17a4d",
   "metadata": {},
   "source": [
    "# Hello World Graph"
   ]
  },
  {
   "cell_type": "code",
   "execution_count": 1,
   "id": "c74688c9",
   "metadata": {},
   "outputs": [],
   "source": [
    "from typing import Dict, TypedDict\n",
    "from langgraph.graph import StateGraph"
   ]
  },
  {
   "cell_type": "code",
   "execution_count": 2,
   "id": "eae4de25",
   "metadata": {},
   "outputs": [],
   "source": [
    "class AgentState(TypedDict): # State Schema\n",
    "    message : str\n",
    "\n",
    "\n",
    "def greeting_node(state: AgentState) -> AgentState:\n",
    "    \"\"\"Simple node that adds a greeting message to the state\"\"\"\n",
    "\n",
    "    state['message'] = \"Hey\" + state[\"message\"] + \", how is your day going?\"\n",
    "\n",
    "    return state"
   ]
  },
  {
   "cell_type": "code",
   "execution_count": 3,
   "id": "cdee6656",
   "metadata": {},
   "outputs": [],
   "source": [
    "graph = StateGraph(state_schema=AgentState)\n",
    "\n",
    "graph.add_node(\"greeter\", greeting_node)\n",
    "\n",
    "graph.set_entry_point(\"greeter\")\n",
    "graph.set_finish_point(\"greeter\")\n",
    "\n",
    "app = graph.compile()"
   ]
  },
  {
   "cell_type": "code",
   "execution_count": 4,
   "id": "e0550702",
   "metadata": {},
   "outputs": [
    {
     "data": {
      "image/png": "[encoded data removed]",
      "text/plain": [
       "<IPython.core.display.Image object>"
      ]
     },
     "metadata": {},
     "output_type": "display_data"
    }
   ],
   "source": [
    "from IPython.display import Image, display\n",
    "display(Image((app.get_graph().draw_mermaid_png())))"
   ]
  },
  {
   "cell_type": "code",
   "execution_count": 5,
   "id": "33b29585",
   "metadata": {},
   "outputs": [],
   "source": [
    "result = app.invoke({\"message\" : \"Bob\"})"
   ]
  },
  {
   "cell_type": "code",
   "execution_count": 6,
   "id": "2f87f090",
   "metadata": {},
   "outputs": [
    {
     "data": {
      "text/plain": [
       "'HeyBob, how is your day going?'"
      ]
     },
     "execution_count": 6,
     "metadata": {},
     "output_type": "execute_result"
    }
   ],
   "source": [
    "result[\"message\"]"
   ]
  },
  {
   "cell_type": "markdown",
   "id": "aaab9a0e",
   "metadata": {},
   "source": [
    "# Graph with multiple inputs"
   ]
  },
  {
   "cell_type": "code",
   "execution_count": 7,
   "id": "5e94ad24",
   "metadata": {},
   "outputs": [],
   "source": [
    "from typing import TypedDict, List\n",
    "from langgraph.graph import StateGraph"
   ]
  },
  {
   "cell_type": "code",
   "execution_count": 8,
   "id": "4bb8223e",
   "metadata": {},
   "outputs": [],
   "source": [
    "class AgentState(TypedDict):\n",
    "    values: List[int]\n",
    "    name: str\n",
    "    result: str"
   ]
  },
  {
   "cell_type": "code",
   "execution_count": 9,
   "id": "87d93159",
   "metadata": {},
   "outputs": [],
   "source": [
    "def process_values(state: AgentState) -> AgentState:\n",
    "    \"\"\"This function handles multiple different inputs\"\"\"\n",
    "    state[\"result\"] = f\"Hi there {state['name']}! Your sum = {sum(state['values'])}\"\n",
    "    return state"
   ]
  },
  {
   "cell_type": "code",
   "execution_count": 10,
   "id": "d35c7866",
   "metadata": {},
   "outputs": [],
   "source": [
    "graph = StateGraph(state_schema=AgentState)\n",
    "\n",
    "graph.add_node(\"processor\", process_values)\n",
    "graph.set_entry_point(\"processor\")\n",
    "graph.set_finish_point(\"processor\")\n",
    "\n",
    "app = graph.compile()"
   ]
  },
  {
   "cell_type": "code",
   "execution_count": 11,
   "id": "0c3c6489",
   "metadata": {},
   "outputs": [
    {
     "data": {
      "image/png": "[encoded data removed]",
      "text/plain": [
       "<IPython.core.display.Image object>"
      ]
     },
     "metadata": {},
     "output_type": "display_data"
    }
   ],
   "source": [
    "from IPython.display import Image, display\n",
    "display(Image((app.get_graph().draw_mermaid_png())))"
   ]
  },
  {
   "cell_type": "code",
   "execution_count": 12,
   "id": "20e4e350",
   "metadata": {},
   "outputs": [],
   "source": [
    "result = app.invoke({\"values\": [1, 2, 3, 4], \"name\":\"Steve\"})"
   ]
  },
  {
   "cell_type": "code",
   "execution_count": 13,
   "id": "7e89f121",
   "metadata": {},
   "outputs": [
    {
     "data": {
      "text/plain": [
       "{'values': [1, 2, 3, 4],\n",
       " 'name': 'Steve',\n",
       " 'result': 'Hi there Steve! Your sum = 10'}"
      ]
     },
     "execution_count": 13,
     "metadata": {},
     "output_type": "execute_result"
    }
   ],
   "source": [
    "result"
   ]
  },
  {
   "cell_type": "markdown",
   "id": "da1bc79f",
   "metadata": {},
   "source": [
    "# Sequential Graph"
   ]
  },
  {
   "cell_type": "code",
   "execution_count": 14,
   "id": "66efaa03",
   "metadata": {},
   "outputs": [],
   "source": [
    "from typing import TypedDict\n",
    "from langgraph.graph import StateGraph"
   ]
  },
  {
   "cell_type": "code",
   "execution_count": 15,
   "id": "545cebe4",
   "metadata": {},
   "outputs": [],
   "source": [
    "class AgentState(TypedDict):\n",
    "    name: str\n",
    "    age: str\n",
    "    final: str"
   ]
  },
  {
   "cell_type": "code",
   "execution_count": 16,
   "id": "ba39fdd8",
   "metadata": {},
   "outputs": [],
   "source": [
    "def first_node(state: AgentState) -> AgentState:\n",
    "    \"\"\"This is the first node of our Sequence\"\"\"\n",
    "    state['final'] = f\"Hi, {state['name']}!\"\n",
    "    return state    \n",
    "\n",
    "def second_node(state: AgentState) -> AgentState:\n",
    "    \"\"\"This is the second node of our Sequence\"\"\"\n",
    "    state['final'] += f\" You are {state['age']} years old!\"\n",
    "    return state    \n",
    "    \n"
   ]
  },
  {
   "cell_type": "code",
   "execution_count": 17,
   "id": "b2942a20",
   "metadata": {},
   "outputs": [],
   "source": [
    "graph = StateGraph(AgentState)\n",
    "\n",
    "graph.add_node(\"first_node\", first_node)\n",
    "graph.add_node(\"second_node\", second_node)\n",
    "\n",
    "graph.set_entry_point(\"first_node\")\n",
    "graph.add_edge('first_node', 'second_node')\n",
    "graph.set_finish_point(\"second_node\")\n",
    "\n",
    "app = graph.compile()"
   ]
  },
  {
   "cell_type": "code",
   "execution_count": 18,
   "id": "bd40ade9",
   "metadata": {},
   "outputs": [
    {
     "data": {
      "image/png": "[encoded data removed]",
      "text/plain": [
       "<IPython.core.display.Image object>"
      ]
     },
     "metadata": {},
     "output_type": "display_data"
    }
   ],
   "source": [
    "from IPython.display import Image, display\n",
    "display(Image((app.get_graph().draw_mermaid_png())))"
   ]
  },
  {
   "cell_type": "code",
   "execution_count": 19,
   "id": "192b6d5c",
   "metadata": {},
   "outputs": [
    {
     "name": "stdout",
     "output_type": "stream",
     "text": [
      "{'name': 'Charlie', 'age': '20', 'final': 'Hi, Charlie! You are 20 years old!'}\n"
     ]
    }
   ],
   "source": [
    "result = app.invoke({\"name\": \"Charlie\", \"age\": \"20\"})\n",
    "print(result)"
   ]
  },
  {
   "cell_type": "markdown",
   "id": "7653a7a0",
   "metadata": {},
   "source": [
    "# Conditional Graph"
   ]
  },
  {
   "cell_type": "code",
   "execution_count": 20,
   "id": "338149b0",
   "metadata": {},
   "outputs": [],
   "source": [
    "from typing import TypedDict\n",
    "from langgraph.graph import StateGraph, START, END"
   ]
  },
  {
   "cell_type": "code",
   "execution_count": 21,
   "id": "57634808",
   "metadata": {},
   "outputs": [],
   "source": [
    "class AgentState(TypedDict):\n",
    "    number1: int\n",
    "    operation: str\n",
    "    number2: int\n",
    "    final: int"
   ]
  },
  {
   "cell_type": "code",
   "execution_count": 22,
   "id": "73649cec",
   "metadata": {},
   "outputs": [],
   "source": [
    "def adder(state: AgentState)-> AgentState:\n",
    "    \"\"\"This node adds the two numbers\"\"\"\n",
    "    state['final'] = state['number1'] + state['number2']\n",
    "    return state\n",
    "\n",
    "def subtractor(state: AgentState)-> AgentState:\n",
    "    \"\"\"This node subtracts the two numbers\"\"\"\n",
    "    state['final'] = state['number1'] - state['number2']\n",
    "    return state\n",
    "\n",
    "def decide_next_node(state: AgentState) -> AgentState:\n",
    "    \"\"\"This Node selects the next node of the graph\"\"\"\n",
    "    if(state['operation'] =='+'):\n",
    "        return \"addition_operation\"\n",
    "    else:\n",
    "        return \"subtraction_operation\"\n"
   ]
  },
  {
   "cell_type": "code",
   "execution_count": 23,
   "id": "2d0f6c87",
   "metadata": {},
   "outputs": [
    {
     "data": {
      "image/png": "[encoded data removed]",
      "text/plain": [
       "<langgraph.graph.state.CompiledStateGraph object at 0x7e1ce04d9de0>"
      ]
     },
     "execution_count": 23,
     "metadata": {},
     "output_type": "execute_result"
    }
   ],
   "source": [
    "graph = StateGraph(AgentState)\n",
    "\n",
    "graph.add_node(\"adder\", adder)\n",
    "graph.add_node(\"subtractor\", subtractor)\n",
    "graph.add_node(\"router\", lambda state:state)\n",
    "\n",
    "graph.add_edge(START, \"router\")\n",
    "\n",
    "graph.add_conditional_edges(\n",
    "    \"router\",\n",
    "    decide_next_node,\n",
    "    {\n",
    "        \"addition_operation\" : \"adder\",\n",
    "        \"subtraction_operation\" : \"subtractor\",\n",
    "    },\n",
    ")\n",
    "\n",
    "graph.add_edge(\"adder\", END)\n",
    "graph.add_edge(\"subtractor\", END)\n",
    "\n",
    "app = graph.compile()\n",
    "app "
   ]
  },
  {
   "cell_type": "code",
   "execution_count": 24,
   "id": "2b1cf6d6",
   "metadata": {},
   "outputs": [
    {
     "data": {
      "text/plain": [
       "{'number1': 10, 'operation': '-', 'number2': 100, 'final': -90}"
      ]
     },
     "execution_count": 24,
     "metadata": {},
     "output_type": "execute_result"
    }
   ],
   "source": [
    "app.invoke({\n",
    "    \"number1\" : 10,\n",
    "    \"operation\" : \"-\",\n",
    "    \"number2\" : 100\n",
    "})"
   ]
  },
  {
   "cell_type": "markdown",
   "id": "87903208",
   "metadata": {},
   "source": [
    "# Looping Graph\n"
   ]
  },
  {
   "cell_type": "code",
   "execution_count": 25,
   "id": "9c2b10b7",
   "metadata": {},
   "outputs": [],
   "source": [
    "from langgraph.graph import StateGraph, END\n",
    "from typing import Dict, TypedDict, List\n",
    "import random"
   ]
  },
  {
   "cell_type": "code",
   "execution_count": 26,
   "id": "693cf7dd",
   "metadata": {},
   "outputs": [],
   "source": [
    "class AgentState(TypedDict):\n",
    "    name: str\n",
    "    numbers: List[int]\n",
    "    counter: int"
   ]
  },
  {
   "cell_type": "code",
   "execution_count": 27,
   "id": "c0504cb7",
   "metadata": {},
   "outputs": [],
   "source": [
    "def greeting_node(state: AgentState) -> AgentState:\n",
    "    \"\"\"Greeting node that says hi to the user\"\"\"\n",
    "    state[\"name\"] = f\"Hi there, {state['name']}\"\n",
    "    state[\"counter\"] = 0\n",
    "    \n",
    "    return state"
   ]
  },
  {
   "cell_type": "code",
   "execution_count": 28,
   "id": "fe50a3eb",
   "metadata": {},
   "outputs": [],
   "source": [
    "def random_node(state: AgentState) -> AgentState:\n",
    "    \"\"\"Generates a random number from 0 to 10\"\"\"\n",
    "\n",
    "    state[\"numbers\"].append(random.randint(0, 10))\n",
    "    state[\"counter\"] += 1\n",
    "    return state"
   ]
  },
  {
   "cell_type": "code",
   "execution_count": null,
   "id": "f79cca5f",
   "metadata": {},
   "outputs": [],
   "source": [
    "def should_continue(state: AgentState) -> str:\n",
    "    \"\"\"Function to decide whether the loop should continue or break\"\"\"\n",
    "    if(state['counter'] < 5):\n",
    "        return \"loop\"\n",
    "    else:\n",
    "        return \"exit\""
   ]
  },
  {
   "cell_type": "code",
   "execution_count": 31,
   "id": "47d2da1c",
   "metadata": {},
   "outputs": [
    {
     "data": {
      "image/png": "[encoded data removed]",
      "text/plain": [
       "<langgraph.graph.state.CompiledStateGraph object at 0x7e1ce03de110>"
      ]
     },
     "execution_count": 31,
     "metadata": {},
     "output_type": "execute_result"
    }
   ],
   "source": [
    "graph = StateGraph(state_schema=AgentState)\n",
    "\n",
    "graph.add_node(\"greeting_node\", greeting_node)\n",
    "graph.add_node(\"random_node\", random_node)\n",
    "graph.add_edge(\"greeting_node\", \"random_node\")\n",
    "graph.add_conditional_edges(\n",
    "    \"random_node\",\n",
    "    should_continue,\n",
    "    {\n",
    "        \"loop\" : \"random_node\",\n",
    "        \"exit\": END\n",
    "    }\n",
    ")\n",
    "\n",
    "graph.set_entry_point(\"greeting_node\")\n",
    "\n",
    "app = graph.compile()\n",
    "app"
   ]
  },
  {
   "cell_type": "code",
   "execution_count": 33,
   "id": "390cecc4",
   "metadata": {},
   "outputs": [
    {
     "data": {
      "text/plain": [
       "{'name': 'Hi there, Chris', 'numbers': [4, 1, 1, 9, 5], 'counter': 5}"
      ]
     },
     "execution_count": 33,
     "metadata": {},
     "output_type": "execute_result"
    }
   ],
   "source": [
    "app.invoke({\"name\": \"Chris\", \"numbers\":[], \"counter\":-1})"
   ]
  },
  {
   "cell_type": "code",
   "execution_count": null,
   "id": "c1d5146a",
   "metadata": {},
   "outputs": [],
   "source": []
  }
 ],
 "metadata": {
  "kernelspec": {
   "display_name": "lang-graph-venv",
   "language": "python",
   "name": "python3"
  },
  "language_info": {
   "codemirror_mode": {
    "name": "ipython",
    "version": 3
   },
   "file_extension": ".py",
   "mimetype": "text/x-python",
   "name": "python",
   "nbconvert_exporter": "python",
   "pygments_lexer": "ipython3",
   "version": "3.10.12"
  }
 },
 "nbformat": 4,
 "nbformat_minor": 5
}
