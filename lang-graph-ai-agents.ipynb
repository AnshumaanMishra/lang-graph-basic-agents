{
 "cells": [
  {
   "cell_type": "code",
   "execution_count": 56,
   "id": "fcefbaa0",
   "metadata": {},
   "outputs": [],
   "source": [
    "from typing import TypedDict, List, Union\n",
    "from langgraph.graph import StateGraph, START, END\n",
    "from langchain_core.messages import HumanMessage, AIMessage\n",
    "from langchain_openai import ChatOpenAI\n",
    "from langchain_google_genai import ChatGoogleGenerativeAI\n",
    "from dotenv import load_dotenv\n",
    "from langchain_community.llms import Ollama\n",
    "\n",
    "import os"
   ]
  },
  {
   "cell_type": "markdown",
   "id": "ae852131",
   "metadata": {},
   "source": [
    "# Simple Bot"
   ]
  },
  {
   "cell_type": "code",
   "execution_count": 57,
   "id": "32e09635",
   "metadata": {},
   "outputs": [],
   "source": [
    "load_dotenv()\n",
    "api_key = os.getenv(\"GEMINI_API_KEY\")"
   ]
  },
  {
   "cell_type": "code",
   "execution_count": 58,
   "id": "bbc4dc0a",
   "metadata": {},
   "outputs": [],
   "source": [
    "class AgentState(TypedDict):\n",
    "    messages: list[HumanMessage]"
   ]
  },
  {
   "cell_type": "code",
   "execution_count": 94,
   "id": "73e4c7a9",
   "metadata": {},
   "outputs": [],
   "source": [
    "llm = Ollama(model=\"gemma3\")"
   ]
  },
  {
   "cell_type": "code",
   "execution_count": 81,
   "id": "cb5b2e89",
   "metadata": {},
   "outputs": [],
   "source": [
    "llm = ChatGoogleGenerativeAI(\n",
    "    model= \"gemini-2.5-flash\",\n",
    "    google_api_key=api_key,\n",
    ")"
   ]
  },
  {
   "cell_type": "code",
   "execution_count": 98,
   "id": "76349863",
   "metadata": {},
   "outputs": [],
   "source": [
    "def process(state: AgentState) -> AgentState:\n",
    "    response = llm.invoke(input=state[\"messages\"])\n",
    "    print(response)\n",
    "    return state"
   ]
  },
  {
   "cell_type": "code",
   "execution_count": 99,
   "id": "10190232",
   "metadata": {},
   "outputs": [],
   "source": [
    "graph = StateGraph(AgentState)\n",
    "\n",
    "graph.add_node(\"process\", process)\n",
    "graph.add_edge(START, \"process\")\n",
    "graph.add_edge(\"process\", END)\n",
    "agent = graph.compile()"
   ]
  },
  {
   "cell_type": "code",
   "execution_count": 100,
   "id": "05e9ffdc",
   "metadata": {},
   "outputs": [
    {
     "name": "stdout",
     "output_type": "stream",
     "text": [
      "Hello! My name is Gemma, a large language model created by the Gemma team at Google DeepMind. \n",
      "\n"
     ]
    }
   ],
   "source": [
    "x = agent.invoke({\"messages\": [\"Hello, What is your name?\"]})\n"
   ]
  },
  {
   "cell_type": "code",
   "execution_count": 101,
   "id": "1aa9b8df",
   "metadata": {},
   "outputs": [
    {
     "name": "stdout",
     "output_type": "stream",
     "text": [
      "Okay, Anshumaan Mishra! It’s nice to meet you. 😊 \n",
      "\n",
      "Is there anything you’d like to chat about, or were you just letting me know your name?\n",
      "{'messages': 'My name is anshumaan mishra'}\n",
      "As an AI, I don't know your name! You haven't told me. 😊 \n",
      "\n",
      "You can tell me your name if you'd like!\n",
      "{'messages': 'what is my name'}\n"
     ]
    }
   ],
   "source": [
    "user_input = input(\"Enter: \")\n",
    "while(user_input != \"exit\"):\n",
    "\n",
    "    result = agent.invoke({\"messages\": user_input})\n",
    "    print(result)\n",
    "    user_input = input(\"Enter: \")"
   ]
  },
  {
   "cell_type": "markdown",
   "id": "ebebe150",
   "metadata": {},
   "source": [
    "# Memory Agent"
   ]
  },
  {
   "cell_type": "code",
   "execution_count": null,
   "id": "6be1b67c",
   "metadata": {},
   "outputs": [
    {
     "data": {
      "text/plain": [
       "True"
      ]
     },
     "execution_count": 35,
     "metadata": {},
     "output_type": "execute_result"
    }
   ],
   "source": [
    "load_dotenv()"
   ]
  },
  {
   "cell_type": "code",
   "execution_count": null,
   "id": "0ac024f3",
   "metadata": {},
   "outputs": [],
   "source": [
    "class AgentState(TypedDict):\n",
    "    messages: List[Union[HumanMessage, AIMessage]]\n",
    "    "
   ]
  },
  {
   "cell_type": "code",
   "execution_count": null,
   "id": "14737830",
   "metadata": {},
   "outputs": [],
   "source": [
    "llm = ChatGoogleGenerativeAI(\n",
    "    model= \"gemini-2.5-flash\",\n",
    "    google_api_key=api_key,\n",
    ")"
   ]
  },
  {
   "cell_type": "code",
   "execution_count": 91,
   "id": "5678ba5d",
   "metadata": {},
   "outputs": [],
   "source": [
    "llm = Ollama(model=\"gemma3\")"
   ]
  },
  {
   "cell_type": "code",
   "execution_count": 92,
   "id": "6b746bfc",
   "metadata": {},
   "outputs": [],
   "source": [
    "def process(state: AgentState) -> AgentState:\n",
    "    \"\"\"This agent will solve the input request\"\"\"\n",
    "    response = llm.invoke(input=state[\"messages\"])\n",
    "    \n",
    "    state[\"messages\"].append(AIMessage(content=response))\n",
    "    # print(response)\n",
    "\n",
    "    return state"
   ]
  },
  {
   "cell_type": "code",
   "execution_count": 93,
   "id": "4c3b0208",
   "metadata": {},
   "outputs": [],
   "source": [
    "graph = StateGraph(state_schema=AgentState)\n",
    "\n",
    "graph.add_node(\"process\", process)\n",
    "graph.add_edge(START, \"process\")\n",
    "graph.add_edge(\"process\", END)\n",
    "\n",
    "agent = graph.compile()"
   ]
  },
  {
   "cell_type": "code",
   "execution_count": 75,
   "id": "2024c51a",
   "metadata": {},
   "outputs": [],
   "source": [
    "conversation_history = []"
   ]
  },
  {
   "cell_type": "code",
   "execution_count": 76,
   "id": "2f7891d5",
   "metadata": {},
   "outputs": [
    {
     "name": "stdout",
     "output_type": "stream",
     "text": [
      "As an AI, I don't have access to personal information about you, including your name. I don't store details about individual users.\n",
      "\n",
      "Therefore, I don't know your name.\n",
      "Hello there! How can I help you today?\n",
      "Thank you for telling me, Anshumaan Mishra! It's nice to meet you.\n",
      "\n",
      "How can I assist you today, Anshumaan?\n",
      "Your name is Anshumaan Mishra.\n",
      "Hi there, Anshumaan! How can I help you today?\n"
     ]
    }
   ],
   "source": [
    "user_input = input(\"Enter: \")\n",
    "while(user_input != \"exit\"):\n",
    "    conversation_history.append(HumanMessage(content=user_input))\n",
    "\n",
    "    result = agent.invoke({\"messages\": conversation_history})\n",
    "    print(result[\"messages\"][-1].content, sep=\"\\n\", end='\\n')\n",
    "    conversation_history = result[\"messages\"]\n",
    "    user_input = input(\"Enter: \")\n",
    "\n"
   ]
  },
  {
   "cell_type": "code",
   "execution_count": null,
   "id": "d178dedf",
   "metadata": {},
   "outputs": [],
   "source": []
  },
  {
   "cell_type": "markdown",
   "id": "6aba5860",
   "metadata": {},
   "source": []
  }
 ],
 "metadata": {
  "kernelspec": {
   "display_name": "lang-graph-venv",
   "language": "python",
   "name": "python3"
  },
  "language_info": {
   "codemirror_mode": {
    "name": "ipython",
    "version": 3
   },
   "file_extension": ".py",
   "mimetype": "text/x-python",
   "name": "python",
   "nbconvert_exporter": "python",
   "pygments_lexer": "ipython3",
   "version": "3.10.12"
  }
 },
 "nbformat": 4,
 "nbformat_minor": 5
}
